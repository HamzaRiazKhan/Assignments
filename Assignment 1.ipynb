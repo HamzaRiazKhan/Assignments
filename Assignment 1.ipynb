{
 "cells": [
  {
   "cell_type": "code",
   "execution_count": 63,
   "id": "a468c30a",
   "metadata": {},
   "outputs": [
    {
     "name": "stdout",
     "output_type": "stream",
     "text": [
      "Twinkle, twinkle, little star,\n",
      "         How I wonder what you are!\n",
      "               Up above the world so high,\n",
      "               Like A diamond in the sky.\n",
      "Twinkle, twinkle, little star,\n",
      "         How I wonder what you are\n"
     ]
    }
   ],
   "source": [
    "print(\"Twinkle, twinkle, little star,\")\n",
    "print(\"         How I wonder what you are!\")\n",
    "print(\"               Up above the world so high,\")\n",
    "print(\"               Like A diamond in the sky.\")\n",
    "print(\"Twinkle, twinkle, little star,\")\n",
    "print(\"         How I wonder what you are\")\n"
   ]
  },
  {
   "cell_type": "code",
   "execution_count": 27,
   "id": "d40f9ec0",
   "metadata": {},
   "outputs": [
    {
     "name": "stdout",
     "output_type": "stream",
     "text": [
      "3.9.7 (default, Sep 16 2021, 16:59:28) [MSC v.1916 64 bit (AMD64)]\n"
     ]
    }
   ],
   "source": [
    "import sys\n",
    "print(sys.version)"
   ]
  },
  {
   "cell_type": "code",
   "execution_count": 6,
   "id": "528cb6d8",
   "metadata": {},
   "outputs": [
    {
     "name": "stdout",
     "output_type": "stream",
     "text": [
      "2021-12-30 15:22:15.983458\n"
     ]
    }
   ],
   "source": [
    "import datetime\n",
    "TodayDateTime = datetime.datetime.now()\n",
    "print(TodayDateTime)"
   ]
  },
  {
   "cell_type": "code",
   "execution_count": 57,
   "id": "26835999",
   "metadata": {},
   "outputs": [
    {
     "name": "stdout",
     "output_type": "stream",
     "text": [
      "Write Radius Of Circle 5\n",
      "78.55\n"
     ]
    }
   ],
   "source": [
    "pi = 3.142\n",
    "r = float(input(\"Write Radius Of Circle \"))\n",
    "Area= pi*r**2\n",
    "print(Area)"
   ]
  },
  {
   "cell_type": "code",
   "execution_count": 33,
   "id": "9d81e4f6",
   "metadata": {},
   "outputs": [
    {
     "name": "stdout",
     "output_type": "stream",
     "text": [
      "Write Your First Name Hamza Riaz\n",
      "Write Your Last Name Khan\n",
      "Khan Hamza Riaz\n"
     ]
    }
   ],
   "source": [
    "FirstName = input(\"Write Your First Name \")\n",
    "LastName = input(\"Write Your Last Name \")\n",
    "print(LastName + \" \" + FirstName)"
   ]
  },
  {
   "cell_type": "code",
   "execution_count": 35,
   "id": "ce68fdb3",
   "metadata": {},
   "outputs": [
    {
     "name": "stdout",
     "output_type": "stream",
     "text": [
      "Write Your Value To Add 15\n",
      "Write Your Value To Add With First Value 15\n",
      "30.0\n"
     ]
    }
   ],
   "source": [
    "FirstNumber = input(\"Write Your Value To Add \")\n",
    "SecondNumber = input(\"Write Your Value To Add With First Value \")\n",
    "sum = float(FirstNumber) + float(SecondNumber)\n",
    "print(sum)"
   ]
  },
  {
   "cell_type": "code",
   "execution_count": null,
   "id": "fac6dd12",
   "metadata": {},
   "outputs": [],
   "source": []
  }
 ],
 "metadata": {
  "kernelspec": {
   "display_name": "Python 3 (ipykernel)",
   "language": "python",
   "name": "python3"
  },
  "language_info": {
   "codemirror_mode": {
    "name": "ipython",
    "version": 3
   },
   "file_extension": ".py",
   "mimetype": "text/x-python",
   "name": "python",
   "nbconvert_exporter": "python",
   "pygments_lexer": "ipython3",
   "version": "3.9.7"
  }
 },
 "nbformat": 4,
 "nbformat_minor": 5
}
